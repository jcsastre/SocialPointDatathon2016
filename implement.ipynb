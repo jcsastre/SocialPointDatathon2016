{
 "cells": [
  {
   "cell_type": "code",
   "execution_count": 63,
   "metadata": {
    "collapsed": false
   },
   "outputs": [
    {
     "name": "stdout",
     "output_type": "stream",
     "text": [
      "There are 2268290 rows in this dataframe\n"
     ]
    },
    {
     "data": {
      "text/html": [
       "<div>\n",
       "<table border=\"1\" class=\"dataframe\">\n",
       "  <thead>\n",
       "    <tr style=\"text-align: right;\">\n",
       "      <th></th>\n",
       "      <th>user_id</th>\n",
       "      <th>monster_id</th>\n",
       "      <th>count_monster</th>\n",
       "    </tr>\n",
       "  </thead>\n",
       "  <tbody>\n",
       "    <tr>\n",
       "      <th>0</th>\n",
       "      <td>5287577520</td>\n",
       "      <td>2080</td>\n",
       "      <td>3</td>\n",
       "    </tr>\n",
       "    <tr>\n",
       "      <th>1</th>\n",
       "      <td>5289159737</td>\n",
       "      <td>1039</td>\n",
       "      <td>29</td>\n",
       "    </tr>\n",
       "    <tr>\n",
       "      <th>2</th>\n",
       "      <td>5318181007</td>\n",
       "      <td>2008</td>\n",
       "      <td>3</td>\n",
       "    </tr>\n",
       "    <tr>\n",
       "      <th>3</th>\n",
       "      <td>5414546335</td>\n",
       "      <td>2081</td>\n",
       "      <td>3</td>\n",
       "    </tr>\n",
       "    <tr>\n",
       "      <th>4</th>\n",
       "      <td>5413724326</td>\n",
       "      <td>2005</td>\n",
       "      <td>8</td>\n",
       "    </tr>\n",
       "  </tbody>\n",
       "</table>\n",
       "</div>"
      ],
      "text/plain": [
       "      user_id  monster_id  count_monster\n",
       "0  5287577520        2080              3\n",
       "1  5289159737        1039             29\n",
       "2  5318181007        2008              3\n",
       "3  5414546335        2081              3\n",
       "4  5413724326        2005              8"
      ]
     },
     "execution_count": 63,
     "metadata": {},
     "output_type": "execute_result"
    }
   ],
   "source": [
    "import pandas as pd\n",
    "import numpy as np\n",
    "from IPython.display import display\n",
    "\n",
    "import warnings\n",
    "warnings.filterwarnings('ignore')\n",
    "\n",
    "data = pd.read_csv(\"../datasets/event_users_train.csv\")\n",
    "\n",
    "print \"There are %d rows in this dataframe\" %len(data)\n",
    "\n",
    "data.head()"
   ]
  },
  {
   "cell_type": "code",
   "execution_count": 64,
   "metadata": {
    "collapsed": false
   },
   "outputs": [
    {
     "data": {
      "text/html": [
       "<div>\n",
       "<table border=\"1\" class=\"dataframe\">\n",
       "  <thead>\n",
       "    <tr style=\"text-align: right;\">\n",
       "      <th></th>\n",
       "      <th>user_id</th>\n",
       "      <th>monster_id</th>\n",
       "      <th>count_monster</th>\n",
       "    </tr>\n",
       "  </thead>\n",
       "  <tbody>\n",
       "    <tr>\n",
       "      <th>count</th>\n",
       "      <td>2.268290e+06</td>\n",
       "      <td>2.268290e+06</td>\n",
       "      <td>2.268290e+06</td>\n",
       "    </tr>\n",
       "    <tr>\n",
       "      <th>mean</th>\n",
       "      <td>5.499524e+09</td>\n",
       "      <td>1.832621e+03</td>\n",
       "      <td>3.822632e+00</td>\n",
       "    </tr>\n",
       "    <tr>\n",
       "      <th>std</th>\n",
       "      <td>2.890100e+08</td>\n",
       "      <td>4.383383e+02</td>\n",
       "      <td>9.572808e+00</td>\n",
       "    </tr>\n",
       "    <tr>\n",
       "      <th>min</th>\n",
       "      <td>5.000018e+09</td>\n",
       "      <td>1.001000e+03</td>\n",
       "      <td>1.000000e+00</td>\n",
       "    </tr>\n",
       "    <tr>\n",
       "      <th>25%</th>\n",
       "      <td>5.248962e+09</td>\n",
       "      <td>2.002000e+03</td>\n",
       "      <td>1.000000e+00</td>\n",
       "    </tr>\n",
       "    <tr>\n",
       "      <th>50%</th>\n",
       "      <td>5.497722e+09</td>\n",
       "      <td>2.023000e+03</td>\n",
       "      <td>2.000000e+00</td>\n",
       "    </tr>\n",
       "    <tr>\n",
       "      <th>75%</th>\n",
       "      <td>5.751172e+09</td>\n",
       "      <td>2.083000e+03</td>\n",
       "      <td>4.000000e+00</td>\n",
       "    </tr>\n",
       "    <tr>\n",
       "      <th>max</th>\n",
       "      <td>5.999992e+09</td>\n",
       "      <td>2.284000e+03</td>\n",
       "      <td>2.327000e+03</td>\n",
       "    </tr>\n",
       "  </tbody>\n",
       "</table>\n",
       "</div>"
      ],
      "text/plain": [
       "            user_id    monster_id  count_monster\n",
       "count  2.268290e+06  2.268290e+06   2.268290e+06\n",
       "mean   5.499524e+09  1.832621e+03   3.822632e+00\n",
       "std    2.890100e+08  4.383383e+02   9.572808e+00\n",
       "min    5.000018e+09  1.001000e+03   1.000000e+00\n",
       "25%    5.248962e+09  2.002000e+03   1.000000e+00\n",
       "50%    5.497722e+09  2.023000e+03   2.000000e+00\n",
       "75%    5.751172e+09  2.083000e+03   4.000000e+00\n",
       "max    5.999992e+09  2.284000e+03   2.327000e+03"
      ]
     },
     "execution_count": 64,
     "metadata": {},
     "output_type": "execute_result"
    }
   ],
   "source": [
    "data.describe()"
   ]
  },
  {
   "cell_type": "code",
   "execution_count": 65,
   "metadata": {
    "collapsed": false
   },
   "outputs": [
    {
     "data": {
      "text/html": [
       "<div>\n",
       "<table border=\"1\" class=\"dataframe\">\n",
       "  <thead>\n",
       "    <tr style=\"text-align: right;\">\n",
       "      <th></th>\n",
       "      <th>user_id</th>\n",
       "      <th>monster_id</th>\n",
       "      <th>count_monster</th>\n",
       "    </tr>\n",
       "  </thead>\n",
       "  <tbody>\n",
       "    <tr>\n",
       "      <th>count</th>\n",
       "      <td>2.268290e+06</td>\n",
       "      <td>2.268290e+06</td>\n",
       "      <td>2.268290e+06</td>\n",
       "    </tr>\n",
       "    <tr>\n",
       "      <th>mean</th>\n",
       "      <td>5.499524e+09</td>\n",
       "      <td>1.832621e+03</td>\n",
       "      <td>3.503286e+00</td>\n",
       "    </tr>\n",
       "    <tr>\n",
       "      <th>std</th>\n",
       "      <td>2.890100e+08</td>\n",
       "      <td>4.383383e+02</td>\n",
       "      <td>4.535809e+00</td>\n",
       "    </tr>\n",
       "    <tr>\n",
       "      <th>min</th>\n",
       "      <td>5.000018e+09</td>\n",
       "      <td>1.001000e+03</td>\n",
       "      <td>1.000000e+00</td>\n",
       "    </tr>\n",
       "    <tr>\n",
       "      <th>25%</th>\n",
       "      <td>5.248962e+09</td>\n",
       "      <td>2.002000e+03</td>\n",
       "      <td>1.000000e+00</td>\n",
       "    </tr>\n",
       "    <tr>\n",
       "      <th>50%</th>\n",
       "      <td>5.497722e+09</td>\n",
       "      <td>2.023000e+03</td>\n",
       "      <td>2.000000e+00</td>\n",
       "    </tr>\n",
       "    <tr>\n",
       "      <th>75%</th>\n",
       "      <td>5.751172e+09</td>\n",
       "      <td>2.083000e+03</td>\n",
       "      <td>4.000000e+00</td>\n",
       "    </tr>\n",
       "    <tr>\n",
       "      <th>max</th>\n",
       "      <td>5.999992e+09</td>\n",
       "      <td>2.284000e+03</td>\n",
       "      <td>3.000000e+01</td>\n",
       "    </tr>\n",
       "  </tbody>\n",
       "</table>\n",
       "</div>"
      ],
      "text/plain": [
       "            user_id    monster_id  count_monster\n",
       "count  2.268290e+06  2.268290e+06   2.268290e+06\n",
       "mean   5.499524e+09  1.832621e+03   3.503286e+00\n",
       "std    2.890100e+08  4.383383e+02   4.535809e+00\n",
       "min    5.000018e+09  1.001000e+03   1.000000e+00\n",
       "25%    5.248962e+09  2.002000e+03   1.000000e+00\n",
       "50%    5.497722e+09  2.023000e+03   2.000000e+00\n",
       "75%    5.751172e+09  2.083000e+03   4.000000e+00\n",
       "max    5.999992e+09  2.284000e+03   3.000000e+01"
      ]
     },
     "execution_count": 65,
     "metadata": {},
     "output_type": "execute_result"
    }
   ],
   "source": [
    "data.loc[data['count_monster'] > 30, 'count_monster'] = 30\n",
    " \n",
    "data.describe()"
   ]
  },
  {
   "cell_type": "code",
   "execution_count": 66,
   "metadata": {
    "collapsed": false
   },
   "outputs": [
    {
     "data": {
      "text/html": [
       "<div>\n",
       "<table border=\"1\" class=\"dataframe\">\n",
       "  <thead>\n",
       "    <tr style=\"text-align: right;\">\n",
       "      <th></th>\n",
       "      <th>user_id</th>\n",
       "      <th>monster_id</th>\n",
       "      <th>count_monster</th>\n",
       "      <th>rating</th>\n",
       "    </tr>\n",
       "  </thead>\n",
       "  <tbody>\n",
       "    <tr>\n",
       "      <th>0</th>\n",
       "      <td>5287577520</td>\n",
       "      <td>2080</td>\n",
       "      <td>3</td>\n",
       "      <td>0.068966</td>\n",
       "    </tr>\n",
       "    <tr>\n",
       "      <th>1</th>\n",
       "      <td>5289159737</td>\n",
       "      <td>1039</td>\n",
       "      <td>29</td>\n",
       "      <td>0.965517</td>\n",
       "    </tr>\n",
       "    <tr>\n",
       "      <th>2</th>\n",
       "      <td>5318181007</td>\n",
       "      <td>2008</td>\n",
       "      <td>3</td>\n",
       "      <td>0.068966</td>\n",
       "    </tr>\n",
       "    <tr>\n",
       "      <th>3</th>\n",
       "      <td>5414546335</td>\n",
       "      <td>2081</td>\n",
       "      <td>3</td>\n",
       "      <td>0.068966</td>\n",
       "    </tr>\n",
       "    <tr>\n",
       "      <th>4</th>\n",
       "      <td>5413724326</td>\n",
       "      <td>2005</td>\n",
       "      <td>8</td>\n",
       "      <td>0.241379</td>\n",
       "    </tr>\n",
       "  </tbody>\n",
       "</table>\n",
       "</div>"
      ],
      "text/plain": [
       "      user_id  monster_id  count_monster    rating\n",
       "0  5287577520        2080              3  0.068966\n",
       "1  5289159737        1039             29  0.965517\n",
       "2  5318181007        2008              3  0.068966\n",
       "3  5414546335        2081              3  0.068966\n",
       "4  5413724326        2005              8  0.241379"
      ]
     },
     "execution_count": 66,
     "metadata": {},
     "output_type": "execute_result"
    }
   ],
   "source": [
    "from sklearn import preprocessing\n",
    "\n",
    "import warnings\n",
    "warnings.filterwarnings('ignore')\n",
    "\n",
    "scaler = preprocessing.MinMaxScaler()\n",
    "count_scaled = scaler.fit_transform(data['count_monster'])\n",
    "data['rating'] = pd.DataFrame(count_scaled)\n",
    "\n",
    "data.head()"
   ]
  },
  {
   "cell_type": "markdown",
   "metadata": {
    "collapsed": true
   },
   "source": [
    "<h1>Monsters info</h1>"
   ]
  },
  {
   "cell_type": "code",
   "execution_count": 67,
   "metadata": {
    "collapsed": false
   },
   "outputs": [
    {
     "name": "stdout",
     "output_type": "stream",
     "text": [
      "There are 148 rows in this dataframe\n"
     ]
    },
    {
     "data": {
      "text/html": [
       "<div>\n",
       "<table border=\"1\" class=\"dataframe\">\n",
       "  <thead>\n",
       "    <tr style=\"text-align: right;\">\n",
       "      <th></th>\n",
       "      <th>monster_id</th>\n",
       "      <th>monster_name</th>\n",
       "      <th>attributes</th>\n",
       "      <th>rarity</th>\n",
       "      <th>breedable</th>\n",
       "      <th>price</th>\n",
       "      <th>lvl</th>\n",
       "    </tr>\n",
       "  </thead>\n",
       "  <tbody>\n",
       "    <tr>\n",
       "      <th>0</th>\n",
       "      <td>1015</td>\n",
       "      <td>Sealion</td>\n",
       "      <td>[f, w]</td>\n",
       "      <td>2</td>\n",
       "      <td>Yes</td>\n",
       "      <td>360</td>\n",
       "      <td>3</td>\n",
       "    </tr>\n",
       "    <tr>\n",
       "      <th>1</th>\n",
       "      <td>1017</td>\n",
       "      <td>Thundenix</td>\n",
       "      <td>[t, f]</td>\n",
       "      <td>3</td>\n",
       "      <td>Yes</td>\n",
       "      <td>280</td>\n",
       "      <td>3</td>\n",
       "    </tr>\n",
       "    <tr>\n",
       "      <th>2</th>\n",
       "      <td>1018</td>\n",
       "      <td>Scorchpeg</td>\n",
       "      <td>[f, l]</td>\n",
       "      <td>4</td>\n",
       "      <td>Yes</td>\n",
       "      <td>1700</td>\n",
       "      <td>3</td>\n",
       "    </tr>\n",
       "    <tr>\n",
       "      <th>3</th>\n",
       "      <td>1019</td>\n",
       "      <td>Firetaur</td>\n",
       "      <td>[d, f]</td>\n",
       "      <td>3</td>\n",
       "      <td>Yes</td>\n",
       "      <td>560</td>\n",
       "      <td>3</td>\n",
       "    </tr>\n",
       "    <tr>\n",
       "      <th>4</th>\n",
       "      <td>1020</td>\n",
       "      <td>Djinn</td>\n",
       "      <td>[m, f]</td>\n",
       "      <td>3</td>\n",
       "      <td>Yes</td>\n",
       "      <td>120</td>\n",
       "      <td>3</td>\n",
       "    </tr>\n",
       "  </tbody>\n",
       "</table>\n",
       "</div>"
      ],
      "text/plain": [
       "   monster_id monster_name attributes  rarity breedable  price  lvl\n",
       "0        1015      Sealion     [f, w]       2       Yes    360    3\n",
       "1        1017    Thundenix     [t, f]       3       Yes    280    3\n",
       "2        1018    Scorchpeg     [f, l]       4       Yes   1700    3\n",
       "3        1019     Firetaur     [d, f]       3       Yes    560    3\n",
       "4        1020        Djinn     [m, f]       3       Yes    120    3"
      ]
     },
     "execution_count": 67,
     "metadata": {},
     "output_type": "execute_result"
    }
   ],
   "source": [
    "import pandas as pd\n",
    "import numpy as np\n",
    "from IPython.display import display\n",
    "\n",
    "monsters_info = pd.read_csv(\"../datasets/monsters_info2.csv\")\n",
    "\n",
    "print \"There are %d rows in this dataframe\" %len(monsters_info)\n",
    "\n",
    "monsters_info.head()"
   ]
  },
  {
   "cell_type": "code",
   "execution_count": 68,
   "metadata": {
    "collapsed": false
   },
   "outputs": [
    {
     "name": "stdout",
     "output_type": "stream",
     "text": [
      "There are 148 rows in monsters_ids\n"
     ]
    },
    {
     "data": {
      "text/plain": [
       "0    1015\n",
       "1    1017\n",
       "2    1018\n",
       "3    1019\n",
       "4    1020\n",
       "Name: monster_id, dtype: int64"
      ]
     },
     "execution_count": 68,
     "metadata": {},
     "output_type": "execute_result"
    }
   ],
   "source": [
    "monsters_info = pd.read_csv(\"../datasets/monsters_info2.csv\")\n",
    "monsters_ids = monsters_info['monster_id']\n",
    "\n",
    "print \"There are %d rows in monsters_ids\" %len(monsters_ids)\n",
    "\n",
    "monsters_ids.head()"
   ]
  },
  {
   "cell_type": "code",
   "execution_count": 69,
   "metadata": {
    "collapsed": true
   },
   "outputs": [],
   "source": [
    "# Let's create a function that collect the monster preferences of our common players\n",
    "def get_monsters_reviews(monster_id, common_players):\n",
    "    mask = (data.user_id.isin(common_players)) & (data.monster_id==monster_id)\n",
    "    reviews = data[mask].sort('user_id')\n",
    "    reviews = reviews[reviews.user_id.duplicated()==False]\n",
    "    return reviews"
   ]
  },
  {
   "cell_type": "code",
   "execution_count": 70,
   "metadata": {
    "collapsed": false
   },
   "outputs": [],
   "source": [
    "# Importing the scipy library to measure the pearson correlation coefficient\n",
    "from scipy.stats.stats import pearsonr\n",
    "from sklearn.metrics.pairwise import manhattan_distances\n",
    "from sklearn.metrics.pairwise import cosine_similarity\n",
    "\n",
    "import warnings\n",
    "warnings.filterwarnings('ignore')\n",
    "\n",
    "def calculate_correlation(monster1, monster2):\n",
    "    # We start by finding the common players\n",
    "    monster_1_players = data[data.monster_id == monster1].user_id\n",
    "    monster_2_players = data[data.monster_id == monster2].user_id\n",
    "\n",
    "    common_players = set(monster_1_players).intersection(monster_2_players)\n",
    "\n",
    "    # Then we look for the reviews given by common reviewers\n",
    "    monster_1_reviews = get_monsters_reviews(monster1, common_players)\n",
    "    monster_2_reviews = get_monsters_reviews(monster2, common_players)\n",
    "#    if monster_1_reviews.size == 0:\n",
    "#        return 0.\n",
    "#    print monster_1_reviews.size\n",
    "    # Calculate the Pearson Correlation Score\n",
    "    return pearsonr(monster_1_reviews.rating, monster_2_reviews.rating)[0]\n",
    "    # return manhattan_distances(monster_1_reviews.rating, monster_2_reviews.rating)[0][0]\n",
    "    # return cosine_similarity(monster_1_reviews.rating, monster_2_reviews.rating)"
   ]
  },
  {
   "cell_type": "code",
   "execution_count": 71,
   "metadata": {
    "collapsed": false
   },
   "outputs": [],
   "source": [
    "# Top 20 most used monsters \n",
    "top_monsters = pd.value_counts(data.monster_id)\n",
    "top_20_monsters = top_monsters[:20]\n",
    "top_monsters = top_monsters[:20]\n",
    "# for top_monster in top_20_monsters.iteritems():\n",
    "#    print top_monster[0]"
   ]
  },
  {
   "cell_type": "code",
   "execution_count": 72,
   "metadata": {
    "collapsed": false
   },
   "outputs": [
    {
     "name": "stdout",
     "output_type": "stream",
     "text": [
      "Start correlation monster:  1031\n",
      "\t... done in 15.4842 seconds.\n",
      "Start correlation monster:  1039\n",
      "\t... done in 15.7056 seconds.\n",
      "Start correlation monster:  1045\n",
      "\t... done in 15.4744 seconds.\n",
      "Start correlation monster:  2017\n",
      "\t... done in 15.4904 seconds.\n",
      "Start correlation monster:  2019\n",
      "\t... done in 15.3287 seconds.\n",
      "Start correlation monster:  1017\n",
      "\t... done in 15.3724 seconds.\n",
      "Start correlation monster:  2014\n",
      "\t... done in 15.3436 seconds.\n",
      "Start correlation monster:  1032\n",
      "\t... done in 15.3532 seconds.\n",
      "Start correlation monster:  2078\n",
      "\t... done in 15.1840 seconds.\n",
      "Start correlation monster:  2079\n",
      "\t... done in 15.1898 seconds.\n",
      "Start correlation monster:  1051\n",
      "\t... done in 15.3027 seconds.\n",
      "Start correlation monster:  2077\n",
      "\t... done in 15.5162 seconds.\n",
      "Start correlation monster:  1044\n",
      "\t... done in 16.8974 seconds.\n",
      "Start correlation monster:  1052\n",
      "\t... done in 24.8119 seconds.\n",
      "Start correlation monster:  2021\n",
      "\t... done in 31.1712 seconds.\n",
      "Start correlation monster:  2018\n",
      "\t... done in 29.0344 seconds.\n",
      "Start correlation monster:  2071\n",
      "\t... done in 18.5743 seconds.\n",
      "Start correlation monster:  2076\n",
      "\t... done in 17.6922 seconds.\n",
      "Start correlation monster:  2082\n",
      "\t... done in 15.4926 seconds.\n",
      "Start correlation monster:  2002\n",
      "\t... done in 15.4855 seconds.\n"
     ]
    }
   ],
   "source": [
    "from time import time\n",
    "\n",
    "import warnings\n",
    "warnings.filterwarnings('ignore')\n",
    "\n",
    "# calculate the correlation for our top books\n",
    "correlation_coefficient = []\n",
    "\n",
    "for top_monster_1 in top_monsters.iteritems():\n",
    "    monster_1_id = top_monster_1[0]\n",
    "    start = time()\n",
    "    print \"Start correlation monster: \", monster_1_id\n",
    "    for top_monster_2 in top_monsters.iteritems():\n",
    "        monster_2_id = top_monster_2[0]\n",
    "        if monster_1_id != monster_2_id:\n",
    "            row = [monster_1_id, monster_2_id] + [calculate_correlation(monster_1_id, monster_2_id)]\n",
    "            correlation_coefficient.append(row)\n",
    "    end = time()\n",
    "    print \"\\t... done in {:.4f} seconds.\".format(end - start)"
   ]
  },
  {
   "cell_type": "code",
   "execution_count": 73,
   "metadata": {
    "collapsed": true
   },
   "outputs": [],
   "source": [
    "import pickle\n",
    "pickle.dump(correlation_coefficient, open( \"correlation_coefficient_13.p\", \"wb\" ) )"
   ]
  },
  {
   "cell_type": "code",
   "execution_count": 74,
   "metadata": {
    "collapsed": false
   },
   "outputs": [
    {
     "data": {
      "text/html": [
       "<div>\n",
       "<table border=\"1\" class=\"dataframe\">\n",
       "  <thead>\n",
       "    <tr style=\"text-align: right;\">\n",
       "      <th></th>\n",
       "      <th>Monster_1</th>\n",
       "      <th>Monster_2</th>\n",
       "      <th>Correlation</th>\n",
       "    </tr>\n",
       "  </thead>\n",
       "  <tbody>\n",
       "    <tr>\n",
       "      <th>11</th>\n",
       "      <td>1031</td>\n",
       "      <td>1044</td>\n",
       "      <td>0.875952</td>\n",
       "    </tr>\n",
       "    <tr>\n",
       "      <th>228</th>\n",
       "      <td>1044</td>\n",
       "      <td>1031</td>\n",
       "      <td>0.875952</td>\n",
       "    </tr>\n",
       "    <tr>\n",
       "      <th>31</th>\n",
       "      <td>1039</td>\n",
       "      <td>1052</td>\n",
       "      <td>0.779704</td>\n",
       "    </tr>\n",
       "    <tr>\n",
       "      <th>248</th>\n",
       "      <td>1052</td>\n",
       "      <td>1039</td>\n",
       "      <td>0.779704</td>\n",
       "    </tr>\n",
       "    <tr>\n",
       "      <th>142</th>\n",
       "      <td>1032</td>\n",
       "      <td>1051</td>\n",
       "      <td>0.758424</td>\n",
       "    </tr>\n",
       "  </tbody>\n",
       "</table>\n",
       "</div>"
      ],
      "text/plain": [
       "     Monster_1  Monster_2  Correlation\n",
       "11        1031       1044     0.875952\n",
       "228       1044       1031     0.875952\n",
       "31        1039       1052     0.779704\n",
       "248       1052       1039     0.779704\n",
       "142       1032       1051     0.758424"
      ]
     },
     "execution_count": 74,
     "metadata": {},
     "output_type": "execute_result"
    }
   ],
   "source": [
    "# Let's look at what the table of correlation looks like\n",
    "cols = [\"Monster_1\", \"Monster_2\", \"Correlation\"]\n",
    "correlation_coefficient = pd.DataFrame(correlation_coefficient, columns=cols).sort('Correlation', ascending=False)\n",
    "correlation_coefficient.head()"
   ]
  },
  {
   "cell_type": "code",
   "execution_count": 75,
   "metadata": {
    "collapsed": false
   },
   "outputs": [
    {
     "data": {
      "text/html": [
       "<div>\n",
       "<table border=\"1\" class=\"dataframe\">\n",
       "  <thead>\n",
       "    <tr style=\"text-align: right;\">\n",
       "      <th></th>\n",
       "      <th>Monster_1</th>\n",
       "      <th>Monster_2</th>\n",
       "      <th>Correlation</th>\n",
       "    </tr>\n",
       "  </thead>\n",
       "  <tbody>\n",
       "    <tr>\n",
       "      <th>count</th>\n",
       "      <td>380.000000</td>\n",
       "      <td>380.000000</td>\n",
       "      <td>380.000000</td>\n",
       "    </tr>\n",
       "    <tr>\n",
       "      <th>mean</th>\n",
       "      <td>1643.250000</td>\n",
       "      <td>1643.250000</td>\n",
       "      <td>0.157394</td>\n",
       "    </tr>\n",
       "    <tr>\n",
       "      <th>std</th>\n",
       "      <td>494.769836</td>\n",
       "      <td>494.769836</td>\n",
       "      <td>0.141350</td>\n",
       "    </tr>\n",
       "    <tr>\n",
       "      <th>min</th>\n",
       "      <td>1017.000000</td>\n",
       "      <td>1017.000000</td>\n",
       "      <td>-0.050421</td>\n",
       "    </tr>\n",
       "    <tr>\n",
       "      <th>25%</th>\n",
       "      <td>1044.750000</td>\n",
       "      <td>1044.750000</td>\n",
       "      <td>0.063437</td>\n",
       "    </tr>\n",
       "    <tr>\n",
       "      <th>50%</th>\n",
       "      <td>2015.500000</td>\n",
       "      <td>2015.500000</td>\n",
       "      <td>0.134254</td>\n",
       "    </tr>\n",
       "    <tr>\n",
       "      <th>75%</th>\n",
       "      <td>2072.250000</td>\n",
       "      <td>2072.250000</td>\n",
       "      <td>0.240862</td>\n",
       "    </tr>\n",
       "    <tr>\n",
       "      <th>max</th>\n",
       "      <td>2082.000000</td>\n",
       "      <td>2082.000000</td>\n",
       "      <td>0.875952</td>\n",
       "    </tr>\n",
       "  </tbody>\n",
       "</table>\n",
       "</div>"
      ],
      "text/plain": [
       "         Monster_1    Monster_2  Correlation\n",
       "count   380.000000   380.000000   380.000000\n",
       "mean   1643.250000  1643.250000     0.157394\n",
       "std     494.769836   494.769836     0.141350\n",
       "min    1017.000000  1017.000000    -0.050421\n",
       "25%    1044.750000  1044.750000     0.063437\n",
       "50%    2015.500000  2015.500000     0.134254\n",
       "75%    2072.250000  2072.250000     0.240862\n",
       "max    2082.000000  2082.000000     0.875952"
      ]
     },
     "execution_count": 75,
     "metadata": {},
     "output_type": "execute_result"
    }
   ],
   "source": [
    "correlation_coefficient.describe()"
   ]
  },
  {
   "cell_type": "code",
   "execution_count": null,
   "metadata": {
    "collapsed": true
   },
   "outputs": [],
   "source": []
  }
 ],
 "metadata": {
  "anaconda-cloud": {},
  "kernelspec": {
   "display_name": "Python [conda root]",
   "language": "python",
   "name": "conda-root-py"
  },
  "language_info": {
   "codemirror_mode": {
    "name": "ipython",
    "version": 2
   },
   "file_extension": ".py",
   "mimetype": "text/x-python",
   "name": "python",
   "nbconvert_exporter": "python",
   "pygments_lexer": "ipython2",
   "version": "2.7.12"
  }
 },
 "nbformat": 4,
 "nbformat_minor": 1
}
