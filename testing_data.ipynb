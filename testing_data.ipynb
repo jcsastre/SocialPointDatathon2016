{
 "cells": [
  {
   "cell_type": "markdown",
   "metadata": {
    "collapsed": false
   },
   "source": [
    "<h1>Correlation coefficients load</h1>"
   ]
  },
  {
   "cell_type": "code",
   "execution_count": 81,
   "metadata": {
    "collapsed": false
   },
   "outputs": [
    {
     "data": {
      "text/html": [
       "<div>\n",
       "<table border=\"1\" class=\"dataframe\">\n",
       "  <thead>\n",
       "    <tr style=\"text-align: right;\">\n",
       "      <th></th>\n",
       "      <th>monster_1_id</th>\n",
       "      <th>monster_2_id</th>\n",
       "      <th>Correlation</th>\n",
       "    </tr>\n",
       "  </thead>\n",
       "  <tbody>\n",
       "    <tr>\n",
       "      <th>11</th>\n",
       "      <td>1031</td>\n",
       "      <td>1044</td>\n",
       "      <td>0.875952</td>\n",
       "    </tr>\n",
       "    <tr>\n",
       "      <th>228</th>\n",
       "      <td>1044</td>\n",
       "      <td>1031</td>\n",
       "      <td>0.875952</td>\n",
       "    </tr>\n",
       "    <tr>\n",
       "      <th>31</th>\n",
       "      <td>1039</td>\n",
       "      <td>1052</td>\n",
       "      <td>0.779704</td>\n",
       "    </tr>\n",
       "    <tr>\n",
       "      <th>248</th>\n",
       "      <td>1052</td>\n",
       "      <td>1039</td>\n",
       "      <td>0.779704</td>\n",
       "    </tr>\n",
       "    <tr>\n",
       "      <th>142</th>\n",
       "      <td>1032</td>\n",
       "      <td>1051</td>\n",
       "      <td>0.758424</td>\n",
       "    </tr>\n",
       "  </tbody>\n",
       "</table>\n",
       "</div>"
      ],
      "text/plain": [
       "     monster_1_id  monster_2_id  Correlation\n",
       "11           1031          1044     0.875952\n",
       "228          1044          1031     0.875952\n",
       "31           1039          1052     0.779704\n",
       "248          1052          1039     0.779704\n",
       "142          1032          1051     0.758424"
      ]
     },
     "execution_count": 81,
     "metadata": {},
     "output_type": "execute_result"
    }
   ],
   "source": [
    "import pickle\n",
    "import pandas as pd\n",
    "\n",
    "import warnings\n",
    "warnings.filterwarnings('ignore')\n",
    "\n",
    "correlation_coefficient = pickle.load(open(\"correlation_coefficient_13.p\", \"rb\"))\n",
    "\n",
    "cols = [\"monster_1_id\", \"monster_2_id\", \"Correlation\"]\n",
    "correlation_coefficient = pd.DataFrame(correlation_coefficient, columns=cols).sort('Correlation', ascending=False)\n",
    "correlation_coefficient.head()"
   ]
  },
  {
   "cell_type": "markdown",
   "metadata": {},
   "source": [
    "<h1>Test data load and preprocess</h1>"
   ]
  },
  {
   "cell_type": "code",
   "execution_count": 82,
   "metadata": {
    "collapsed": false
   },
   "outputs": [
    {
     "name": "stdout",
     "output_type": "stream",
     "text": [
      "There are 944605 rows in this dataframe\n"
     ]
    },
    {
     "data": {
      "text/html": [
       "<div>\n",
       "<table border=\"1\" class=\"dataframe\">\n",
       "  <thead>\n",
       "    <tr style=\"text-align: right;\">\n",
       "      <th></th>\n",
       "      <th>user_id</th>\n",
       "      <th>monster_id</th>\n",
       "      <th>count_monster</th>\n",
       "      <th>rating</th>\n",
       "    </tr>\n",
       "  </thead>\n",
       "  <tbody>\n",
       "    <tr>\n",
       "      <th>0</th>\n",
       "      <td>5000065336</td>\n",
       "      <td>2069</td>\n",
       "      <td>2</td>\n",
       "      <td>0.001081</td>\n",
       "    </tr>\n",
       "    <tr>\n",
       "      <th>1</th>\n",
       "      <td>5000065336</td>\n",
       "      <td>2073</td>\n",
       "      <td>1</td>\n",
       "      <td>0.000000</td>\n",
       "    </tr>\n",
       "    <tr>\n",
       "      <th>2</th>\n",
       "      <td>5000065336</td>\n",
       "      <td>1044</td>\n",
       "      <td>9</td>\n",
       "      <td>0.008649</td>\n",
       "    </tr>\n",
       "    <tr>\n",
       "      <th>3</th>\n",
       "      <td>5000065336</td>\n",
       "      <td>2071</td>\n",
       "      <td>5</td>\n",
       "      <td>0.004324</td>\n",
       "    </tr>\n",
       "    <tr>\n",
       "      <th>4</th>\n",
       "      <td>5000065336</td>\n",
       "      <td>1046</td>\n",
       "      <td>4</td>\n",
       "      <td>0.003243</td>\n",
       "    </tr>\n",
       "  </tbody>\n",
       "</table>\n",
       "</div>"
      ],
      "text/plain": [
       "      user_id  monster_id  count_monster    rating\n",
       "0  5000065336        2069              2  0.001081\n",
       "1  5000065336        2073              1  0.000000\n",
       "2  5000065336        1044              9  0.008649\n",
       "3  5000065336        2071              5  0.004324\n",
       "4  5000065336        1046              4  0.003243"
      ]
     },
     "execution_count": 82,
     "metadata": {},
     "output_type": "execute_result"
    }
   ],
   "source": [
    "import pandas as pd\n",
    "import numpy as np\n",
    "from IPython.display import display\n",
    "from sklearn import preprocessing\n",
    "import warnings\n",
    "warnings.filterwarnings('ignore')\n",
    "\n",
    "\n",
    "test_data = pd.read_csv(\"../datasets/event_users_test.csv\", dtype={'user_id': np.int64})\n",
    "\n",
    "scaler = preprocessing.MinMaxScaler()\n",
    "count_scaled = scaler.fit_transform(test_data['count_monster'])\n",
    "test_data['rating'] = pd.DataFrame(count_scaled)\n",
    "\n",
    "print \"There are %d rows in this dataframe\" %len(test_data)\n",
    "\n",
    "test_data.head()"
   ]
  },
  {
   "cell_type": "code",
   "execution_count": 83,
   "metadata": {
    "collapsed": false
   },
   "outputs": [],
   "source": [
    "test_users_ids = test_data['user_id']\n",
    "test_users_ids = test_users_ids.unique()"
   ]
  },
  {
   "cell_type": "markdown",
   "metadata": {},
   "source": [
    "<h1>Top monsters list</h1>"
   ]
  },
  {
   "cell_type": "code",
   "execution_count": 84,
   "metadata": {
    "collapsed": false
   },
   "outputs": [
    {
     "data": {
      "text/plain": [
       "1031    23100\n",
       "1039    22985\n",
       "1045    22962\n",
       "2019    22898\n",
       "2017    22843\n",
       "Name: monster_id, dtype: int64"
      ]
     },
     "execution_count": 84,
     "metadata": {},
     "output_type": "execute_result"
    }
   ],
   "source": [
    "# Top 20 most used monsters \n",
    "top_monsters = pd.value_counts(test_data.monster_id)\n",
    "top_monsters.head()"
   ]
  },
  {
   "cell_type": "markdown",
   "metadata": {},
   "source": [
    "<h1>Submit file generation</h1>"
   ]
  },
  {
   "cell_type": "code",
   "execution_count": 85,
   "metadata": {
    "collapsed": false
   },
   "outputs": [
    {
     "name": "stdout",
     "output_type": "stream",
     "text": [
      "Done!!!!\n"
     ]
    }
   ],
   "source": [
    "suggested_monsters_ids = []\n",
    "\n",
    "test_users_ids_subset = test_users_ids[:100]\n",
    "\n",
    "# count = 1\n",
    "for user_id in test_users_ids:\n",
    "    # print count\n",
    "    # count = count + 1\n",
    "    # print \"Bucle #1\"\n",
    "    user_id_rows = test_data.loc[test_data['user_id'] == user_id]\n",
    "    user_id_rows = user_id_rows.sort(['rating'], ascending=[0])\n",
    "    recommendedMonsterFound = False\n",
    "    for tuple in user_id_rows.itertuples(): # we loop in rating descending until we found valid monster_id recommendation\n",
    "        if recommendedMonsterFound == True:\n",
    "            break\n",
    "        # print \"\\tBucle #2\"\n",
    "        monster_id = tuple[2]\n",
    "        monster_id_correlations = correlation_coefficient.loc[correlation_coefficient['monster_1_id'] == monster_id]\n",
    "        for correlation_tuple in monster_id_correlations.itertuples():\n",
    "            # print \"\\t\\tBucle #3\"\n",
    "            suggested_monster_id = correlation_tuple[2]\n",
    "            hasAlreadySuggestedMonster =  any(user_id_rows.monster_id == suggested_monster_id)\n",
    "            if hasAlreadySuggestedMonster == False:\n",
    "                suggested_monsters_ids.append(suggested_monster_id)\n",
    "                recommendedMonsterFound = True\n",
    "                break\n",
    "    if recommendedMonsterFound == False:\n",
    "        for top_monster in top_monsters.iteritems():\n",
    "            top_monster_id = top_monster[0]\n",
    "            hasAlreadySuggestedMonster =  any(user_id_rows.monster_id == suggested_monster_id)\n",
    "            if hasAlreadySuggestedMonster == False:\n",
    "                suggested_monsters_ids.append(top_monster_id)\n",
    "                recommendedMonsterFound = True\n",
    "                break\n",
    "    if recommendedMonsterFound == False:\n",
    "        suggested_monsters_ids.append(2284)\n",
    "        \n",
    "print \"Done!!!!\""
   ]
  },
  {
   "cell_type": "code",
   "execution_count": 86,
   "metadata": {
    "collapsed": false
   },
   "outputs": [
    {
     "name": "stdout",
     "output_type": "stream",
     "text": [
      "30000\n"
     ]
    }
   ],
   "source": [
    "print len(suggested_monsters_ids)"
   ]
  },
  {
   "cell_type": "code",
   "execution_count": 87,
   "metadata": {
    "collapsed": true
   },
   "outputs": [],
   "source": [
    "np.savetxt('jcsastre_submit_13.csv', suggested_monsters_ids, fmt='%i')"
   ]
  },
  {
   "cell_type": "code",
   "execution_count": null,
   "metadata": {
    "collapsed": true
   },
   "outputs": [],
   "source": []
  }
 ],
 "metadata": {
  "anaconda-cloud": {},
  "kernelspec": {
   "display_name": "Python [conda root]",
   "language": "python",
   "name": "conda-root-py"
  },
  "language_info": {
   "codemirror_mode": {
    "name": "ipython",
    "version": 2
   },
   "file_extension": ".py",
   "mimetype": "text/x-python",
   "name": "python",
   "nbconvert_exporter": "python",
   "pygments_lexer": "ipython2",
   "version": "2.7.12"
  }
 },
 "nbformat": 4,
 "nbformat_minor": 1
}
